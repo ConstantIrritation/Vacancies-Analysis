{
  "cells": [
    {
      "cell_type": "markdown",
      "metadata": {
        "id": "YbxDnM4wxDI9"
      },
      "source": [
        "\n",
        "# Анализ вакансий.\n",
        "## <a href=\"https://hh.ru/\">hh.ru</a> с использованием <a href=\"https://dev.hh.ru/\">официального API</a>.\n"
      ]
    },
    {
      "cell_type": "markdown",
      "source": [
        "## Загружаем данные и приводим их к нормальному виду##"
      ],
      "metadata": {
        "id": "wf5wYwid020d"
      }
    },
    {
      "cell_type": "code",
      "execution_count": null,
      "metadata": {
        "ExecuteTime": {
          "end_time": "2022-03-06T09:57:49.335810Z",
          "start_time": "2022-03-06T09:57:47.863259Z"
        },
        "id": "ht9Xm0EucoAr"
      },
      "outputs": [],
      "source": [
        "import numpy as np\n",
        "import pandas as pd\n",
        "import matplotlib.pyplot as plt\n",
        "import seaborn as sns\n",
        "\n",
        "sns.set(style='whitegrid', font_scale=1.3, palette='Set2')\n",
        "%matplotlib inline\n",
        "\n",
        "import requests\n",
        "from time import sleep\n",
        "import json"
      ]
    },
    {
      "cell_type": "markdown",
      "metadata": {
        "id": "YWHJ8mHbxDJM"
      },
      "source": [
        "**Исследуем профессию Data Scientist. Найдём как можно больше вакансий по этой профессии в Москве. Имеет смысл искать также по другим ключевым словам, например `аналитик данных`.**"
      ]
    },
    {
      "cell_type": "code",
      "execution_count": null,
      "metadata": {
        "id": "1ZK9-Y9dxDJM"
      },
      "outputs": [],
      "source": [
        "from tqdm import tqdm\n",
        "\n",
        "URL = 'https://api.hh.ru/vacancies'\n",
        "\n",
        "def find_vacancies(vacancy_name, page_number):\n",
        "    params = {\n",
        "        'text': vacancy_name,\n",
        "        'area': 1,\n",
        "        'page': page_number,\n",
        "        'per_page': 100\n",
        "    }\n",
        "    sleep(0.5)\n",
        "\n",
        "    req = requests.get(URL, params)\n",
        "    data = json.loads(req.content.decode())\n",
        "    return pd.json_normalize(data['items'])\n"
      ]
    },
    {
      "cell_type": "code",
      "source": [
        "related_vacancy_names = ['Data science', 'Data scientist', 'Аналитик данных', 'Data analyst']\n",
        "\n",
        "df = pd.DataFrame()\n",
        "for page_number in tqdm(range(0, 15)):\n",
        "    for vacancy_name in related_vacancy_names:\n",
        "        df = pd.concat([df, find_vacancies(vacancy_name, page_number)], ignore_index=True)"
      ],
      "metadata": {
        "id": "Nz4SPprEH2Uf",
        "colab": {
          "base_uri": "https://localhost:8080/"
        },
        "outputId": "90b9efc6-a356-40df-fb44-4b33b9024c41"
      },
      "execution_count": null,
      "outputs": [
        {
          "output_type": "stream",
          "name": "stderr",
          "text": [
            "100%|██████████| 15/15 [01:17<00:00,  5.17s/it]\n"
          ]
        }
      ]
    },
    {
      "cell_type": "markdown",
      "metadata": {
        "id": "byHk1rqNxDJN"
      },
      "source": [
        "**В полученную выборку некоторые вакансии могли попасть несколько раз. Удалим дубликаты.**"
      ]
    },
    {
      "cell_type": "code",
      "execution_count": null,
      "metadata": {
        "id": "5WQiQUZGxDJN"
      },
      "outputs": [],
      "source": [
        "df.drop_duplicates(subset=['id'], inplace=True, ignore_index=True)"
      ]
    },
    {
      "cell_type": "markdown",
      "metadata": {
        "id": "y5sRTQIuxDJN"
      },
      "source": [
        "**Загрузим подробное описание каждой вакансии и создадим удобную таблицу данных.**"
      ]
    },
    {
      "cell_type": "code",
      "execution_count": null,
      "metadata": {
        "id": "MOjc1_-kxDJN"
      },
      "outputs": [],
      "source": [
        "def get_detailed_vacancy_info(vacancy_index):\n",
        "    sleep(0.5)\n",
        "    vacancy = df['id'].iloc[vacancy_index]\n",
        "    vacancy_url = f'https://api.hh.ru/vacancies/{vacancy}'\n",
        "\n",
        "    req = requests.get(vacancy_url)\n",
        "    vacancy_info = json.loads(req.content.decode())\n",
        "    return pd.json_normalize(vacancy_info)\n"
      ]
    },
    {
      "cell_type": "code",
      "source": [
        "df_detailed = pd.DataFrame()\n",
        "for vacancy_index in tqdm(range(0, len(df))):\n",
        "    df_detailed = pd.concat([df_detailed, get_detailed_vacancy_info(vacancy_index)], ignore_index=True)"
      ],
      "metadata": {
        "id": "UQ0Om0pkILIi",
        "colab": {
          "base_uri": "https://localhost:8080/"
        },
        "outputId": "c0806e76-d47e-4468-9850-92863c48230b"
      },
      "execution_count": null,
      "outputs": [
        {
          "output_type": "stream",
          "name": "stderr",
          "text": [
            "100%|██████████| 2595/2595 [45:01<00:00,  1.04s/it]\n"
          ]
        }
      ]
    },
    {
      "cell_type": "code",
      "source": [
        "df_detailed_filtered = df_detailed[['id', 'name', 'key_skills', 'experience.name',\n",
        "                                    'salary.from', 'salary.to', 'salary.currency', 'salary.gross', 'employer.name',\n",
        "                                    'address.metro.station_name', 'address.metro.lat', 'address.metro.lng']]\n",
        "df_detailed_filtered.to_excel(\"data_frame.xlsx\")\n",
        "df_detailed_filtered"
      ],
      "metadata": {
        "colab": {
          "base_uri": "https://localhost:8080/",
          "height": 991
        },
        "id": "9kn2PQiSgBR9",
        "outputId": "82bea41d-9931-455c-e28a-d3b949ac79be"
      },
      "execution_count": null,
      "outputs": [
        {
          "output_type": "execute_result",
          "data": {
            "text/plain": [
              "            id                                          name  \\\n",
              "0     49423067                                Data Scientist   \n",
              "1     54882705  Junior Data scientist/ Младший риск-аналитик   \n",
              "2     55485778       Data Scientist (Marketplace Efficiency)   \n",
              "3     55358460                                 Data engineer   \n",
              "4     55454544                                 Data engineer   \n",
              "...        ...                                           ...   \n",
              "2590  55101205                    Бизнес-аналитик (SberData)   \n",
              "2591  44557266              Бизнес-аналитик в проектный офис   \n",
              "2592  54462196    Ведущий аналитик проекта / бизнес-аналитик   \n",
              "2593  55096197           Бизнес-аналитик, Внутренние сервисы   \n",
              "2594  48709571                 Аналитик внедрения BI-решений   \n",
              "\n",
              "                                             key_skills     experience.name  \\\n",
              "0     [{'name': 'аналитика'}, {'name': 'SQL'}, {'nam...       От 3 до 6 лет   \n",
              "1     [{'name': 'Математический анализ'}, {'name': '...  От 1 года до 3 лет   \n",
              "2     [{'name': 'Python'}, {'name': 'Математическая ...       От 3 до 6 лет   \n",
              "3     [{'name': 'Python'}, {'name': 'SQL'}, {'name':...       От 3 до 6 лет   \n",
              "4     [{'name': 'Python'}, {'name': 'SQL'}, {'name':...       От 3 до 6 лет   \n",
              "...                                                 ...                 ...   \n",
              "2590                                                 []       От 3 до 6 лет   \n",
              "2591  [{'name': 'BPMN'}, {'name': 'VBA'}, {'name': '...  От 1 года до 3 лет   \n",
              "2592  [{'name': 'SQL'}, {'name': 'UML'}, {'name': 'A...       От 3 до 6 лет   \n",
              "2593  [{'name': 'Системность'}, {'name': 'Умение ана...  От 1 года до 3 лет   \n",
              "2594  [{'name': 'Business Intelligence Systems'}, {'...  От 1 года до 3 лет   \n",
              "\n",
              "     salary.from salary.to salary.currency salary.gross  \\\n",
              "0           None  380000.0             RUR        False   \n",
              "1           None       NaN             NaN          NaN   \n",
              "2            NaN       NaN             NaN          NaN   \n",
              "3           3000      None             USD         True   \n",
              "4            NaN       NaN             NaN          NaN   \n",
              "...          ...       ...             ...          ...   \n",
              "2590         NaN       NaN             NaN          NaN   \n",
              "2591      175000      None             RUR         True   \n",
              "2592         NaN       NaN             NaN          NaN   \n",
              "2593         NaN       NaN             NaN          NaN   \n",
              "2594         NaN       NaN             NaN          NaN   \n",
              "\n",
              "                employer.name address.metro.station_name  address.metro.lat  \\\n",
              "0                       Точка                        NaN                NaN   \n",
              "1                    Pay P.S.                     Динамо          55.789704   \n",
              "2                    inDriver                        NaN                NaN   \n",
              "3                   T-DIGITAL                        NaN                NaN   \n",
              "4                    Сбербанк                        NaN                NaN   \n",
              "...                       ...                        ...                ...   \n",
              "2590                 Сбербанк                   Тульская          55.709610   \n",
              "2591       СК Ренессанс Жизнь                        NaN                NaN   \n",
              "2592  Лига Цифровой Экономики                Савёловская          55.794054   \n",
              "2593                     Ozon                Выставочная          55.750243   \n",
              "2594                Polymedia                Профсоюзная          55.677671   \n",
              "\n",
              "      address.metro.lng  \n",
              "0                   NaN  \n",
              "1             37.558212  \n",
              "2                   NaN  \n",
              "3                   NaN  \n",
              "4                   NaN  \n",
              "...                 ...  \n",
              "2590          37.622569  \n",
              "2591                NaN  \n",
              "2592          37.587163  \n",
              "2593          37.542641  \n",
              "2594          37.562595  \n",
              "\n",
              "[2595 rows x 12 columns]"
            ],
            "text/html": [
              "\n",
              "  <div id=\"df-2c6339c2-03c3-4b14-b87e-4a2fc36921cb\">\n",
              "    <div class=\"colab-df-container\">\n",
              "      <div>\n",
              "<style scoped>\n",
              "    .dataframe tbody tr th:only-of-type {\n",
              "        vertical-align: middle;\n",
              "    }\n",
              "\n",
              "    .dataframe tbody tr th {\n",
              "        vertical-align: top;\n",
              "    }\n",
              "\n",
              "    .dataframe thead th {\n",
              "        text-align: right;\n",
              "    }\n",
              "</style>\n",
              "<table border=\"1\" class=\"dataframe\">\n",
              "  <thead>\n",
              "    <tr style=\"text-align: right;\">\n",
              "      <th></th>\n",
              "      <th>id</th>\n",
              "      <th>name</th>\n",
              "      <th>key_skills</th>\n",
              "      <th>experience.name</th>\n",
              "      <th>salary.from</th>\n",
              "      <th>salary.to</th>\n",
              "      <th>salary.currency</th>\n",
              "      <th>salary.gross</th>\n",
              "      <th>employer.name</th>\n",
              "      <th>address.metro.station_name</th>\n",
              "      <th>address.metro.lat</th>\n",
              "      <th>address.metro.lng</th>\n",
              "    </tr>\n",
              "  </thead>\n",
              "  <tbody>\n",
              "    <tr>\n",
              "      <th>0</th>\n",
              "      <td>49423067</td>\n",
              "      <td>Data Scientist</td>\n",
              "      <td>[{'name': 'аналитика'}, {'name': 'SQL'}, {'nam...</td>\n",
              "      <td>От 3 до 6 лет</td>\n",
              "      <td>None</td>\n",
              "      <td>380000.0</td>\n",
              "      <td>RUR</td>\n",
              "      <td>False</td>\n",
              "      <td>Точка</td>\n",
              "      <td>NaN</td>\n",
              "      <td>NaN</td>\n",
              "      <td>NaN</td>\n",
              "    </tr>\n",
              "    <tr>\n",
              "      <th>1</th>\n",
              "      <td>54882705</td>\n",
              "      <td>Junior Data scientist/ Младший риск-аналитик</td>\n",
              "      <td>[{'name': 'Математический анализ'}, {'name': '...</td>\n",
              "      <td>От 1 года до 3 лет</td>\n",
              "      <td>None</td>\n",
              "      <td>NaN</td>\n",
              "      <td>NaN</td>\n",
              "      <td>NaN</td>\n",
              "      <td>Pay P.S.</td>\n",
              "      <td>Динамо</td>\n",
              "      <td>55.789704</td>\n",
              "      <td>37.558212</td>\n",
              "    </tr>\n",
              "    <tr>\n",
              "      <th>2</th>\n",
              "      <td>55485778</td>\n",
              "      <td>Data Scientist (Marketplace Efficiency)</td>\n",
              "      <td>[{'name': 'Python'}, {'name': 'Математическая ...</td>\n",
              "      <td>От 3 до 6 лет</td>\n",
              "      <td>NaN</td>\n",
              "      <td>NaN</td>\n",
              "      <td>NaN</td>\n",
              "      <td>NaN</td>\n",
              "      <td>inDriver</td>\n",
              "      <td>NaN</td>\n",
              "      <td>NaN</td>\n",
              "      <td>NaN</td>\n",
              "    </tr>\n",
              "    <tr>\n",
              "      <th>3</th>\n",
              "      <td>55358460</td>\n",
              "      <td>Data engineer</td>\n",
              "      <td>[{'name': 'Python'}, {'name': 'SQL'}, {'name':...</td>\n",
              "      <td>От 3 до 6 лет</td>\n",
              "      <td>3000</td>\n",
              "      <td>None</td>\n",
              "      <td>USD</td>\n",
              "      <td>True</td>\n",
              "      <td>T-DIGITAL</td>\n",
              "      <td>NaN</td>\n",
              "      <td>NaN</td>\n",
              "      <td>NaN</td>\n",
              "    </tr>\n",
              "    <tr>\n",
              "      <th>4</th>\n",
              "      <td>55454544</td>\n",
              "      <td>Data engineer</td>\n",
              "      <td>[{'name': 'Python'}, {'name': 'SQL'}, {'name':...</td>\n",
              "      <td>От 3 до 6 лет</td>\n",
              "      <td>NaN</td>\n",
              "      <td>NaN</td>\n",
              "      <td>NaN</td>\n",
              "      <td>NaN</td>\n",
              "      <td>Сбербанк</td>\n",
              "      <td>NaN</td>\n",
              "      <td>NaN</td>\n",
              "      <td>NaN</td>\n",
              "    </tr>\n",
              "    <tr>\n",
              "      <th>...</th>\n",
              "      <td>...</td>\n",
              "      <td>...</td>\n",
              "      <td>...</td>\n",
              "      <td>...</td>\n",
              "      <td>...</td>\n",
              "      <td>...</td>\n",
              "      <td>...</td>\n",
              "      <td>...</td>\n",
              "      <td>...</td>\n",
              "      <td>...</td>\n",
              "      <td>...</td>\n",
              "      <td>...</td>\n",
              "    </tr>\n",
              "    <tr>\n",
              "      <th>2590</th>\n",
              "      <td>55101205</td>\n",
              "      <td>Бизнес-аналитик (SberData)</td>\n",
              "      <td>[]</td>\n",
              "      <td>От 3 до 6 лет</td>\n",
              "      <td>NaN</td>\n",
              "      <td>NaN</td>\n",
              "      <td>NaN</td>\n",
              "      <td>NaN</td>\n",
              "      <td>Сбербанк</td>\n",
              "      <td>Тульская</td>\n",
              "      <td>55.709610</td>\n",
              "      <td>37.622569</td>\n",
              "    </tr>\n",
              "    <tr>\n",
              "      <th>2591</th>\n",
              "      <td>44557266</td>\n",
              "      <td>Бизнес-аналитик в проектный офис</td>\n",
              "      <td>[{'name': 'BPMN'}, {'name': 'VBA'}, {'name': '...</td>\n",
              "      <td>От 1 года до 3 лет</td>\n",
              "      <td>175000</td>\n",
              "      <td>None</td>\n",
              "      <td>RUR</td>\n",
              "      <td>True</td>\n",
              "      <td>СК Ренессанс Жизнь</td>\n",
              "      <td>NaN</td>\n",
              "      <td>NaN</td>\n",
              "      <td>NaN</td>\n",
              "    </tr>\n",
              "    <tr>\n",
              "      <th>2592</th>\n",
              "      <td>54462196</td>\n",
              "      <td>Ведущий аналитик проекта / бизнес-аналитик</td>\n",
              "      <td>[{'name': 'SQL'}, {'name': 'UML'}, {'name': 'A...</td>\n",
              "      <td>От 3 до 6 лет</td>\n",
              "      <td>NaN</td>\n",
              "      <td>NaN</td>\n",
              "      <td>NaN</td>\n",
              "      <td>NaN</td>\n",
              "      <td>Лига Цифровой Экономики</td>\n",
              "      <td>Савёловская</td>\n",
              "      <td>55.794054</td>\n",
              "      <td>37.587163</td>\n",
              "    </tr>\n",
              "    <tr>\n",
              "      <th>2593</th>\n",
              "      <td>55096197</td>\n",
              "      <td>Бизнес-аналитик, Внутренние сервисы</td>\n",
              "      <td>[{'name': 'Системность'}, {'name': 'Умение ана...</td>\n",
              "      <td>От 1 года до 3 лет</td>\n",
              "      <td>NaN</td>\n",
              "      <td>NaN</td>\n",
              "      <td>NaN</td>\n",
              "      <td>NaN</td>\n",
              "      <td>Ozon</td>\n",
              "      <td>Выставочная</td>\n",
              "      <td>55.750243</td>\n",
              "      <td>37.542641</td>\n",
              "    </tr>\n",
              "    <tr>\n",
              "      <th>2594</th>\n",
              "      <td>48709571</td>\n",
              "      <td>Аналитик внедрения BI-решений</td>\n",
              "      <td>[{'name': 'Business Intelligence Systems'}, {'...</td>\n",
              "      <td>От 1 года до 3 лет</td>\n",
              "      <td>NaN</td>\n",
              "      <td>NaN</td>\n",
              "      <td>NaN</td>\n",
              "      <td>NaN</td>\n",
              "      <td>Polymedia</td>\n",
              "      <td>Профсоюзная</td>\n",
              "      <td>55.677671</td>\n",
              "      <td>37.562595</td>\n",
              "    </tr>\n",
              "  </tbody>\n",
              "</table>\n",
              "<p>2595 rows × 12 columns</p>\n",
              "</div>\n",
              "      <button class=\"colab-df-convert\" onclick=\"convertToInteractive('df-2c6339c2-03c3-4b14-b87e-4a2fc36921cb')\"\n",
              "              title=\"Convert this dataframe to an interactive table.\"\n",
              "              style=\"display:none;\">\n",
              "        \n",
              "  <svg xmlns=\"http://www.w3.org/2000/svg\" height=\"24px\"viewBox=\"0 0 24 24\"\n",
              "       width=\"24px\">\n",
              "    <path d=\"M0 0h24v24H0V0z\" fill=\"none\"/>\n",
              "    <path d=\"M18.56 5.44l.94 2.06.94-2.06 2.06-.94-2.06-.94-.94-2.06-.94 2.06-2.06.94zm-11 1L8.5 8.5l.94-2.06 2.06-.94-2.06-.94L8.5 2.5l-.94 2.06-2.06.94zm10 10l.94 2.06.94-2.06 2.06-.94-2.06-.94-.94-2.06-.94 2.06-2.06.94z\"/><path d=\"M17.41 7.96l-1.37-1.37c-.4-.4-.92-.59-1.43-.59-.52 0-1.04.2-1.43.59L10.3 9.45l-7.72 7.72c-.78.78-.78 2.05 0 2.83L4 21.41c.39.39.9.59 1.41.59.51 0 1.02-.2 1.41-.59l7.78-7.78 2.81-2.81c.8-.78.8-2.07 0-2.86zM5.41 20L4 18.59l7.72-7.72 1.47 1.35L5.41 20z\"/>\n",
              "  </svg>\n",
              "      </button>\n",
              "      \n",
              "  <style>\n",
              "    .colab-df-container {\n",
              "      display:flex;\n",
              "      flex-wrap:wrap;\n",
              "      gap: 12px;\n",
              "    }\n",
              "\n",
              "    .colab-df-convert {\n",
              "      background-color: #E8F0FE;\n",
              "      border: none;\n",
              "      border-radius: 50%;\n",
              "      cursor: pointer;\n",
              "      display: none;\n",
              "      fill: #1967D2;\n",
              "      height: 32px;\n",
              "      padding: 0 0 0 0;\n",
              "      width: 32px;\n",
              "    }\n",
              "\n",
              "    .colab-df-convert:hover {\n",
              "      background-color: #E2EBFA;\n",
              "      box-shadow: 0px 1px 2px rgba(60, 64, 67, 0.3), 0px 1px 3px 1px rgba(60, 64, 67, 0.15);\n",
              "      fill: #174EA6;\n",
              "    }\n",
              "\n",
              "    [theme=dark] .colab-df-convert {\n",
              "      background-color: #3B4455;\n",
              "      fill: #D2E3FC;\n",
              "    }\n",
              "\n",
              "    [theme=dark] .colab-df-convert:hover {\n",
              "      background-color: #434B5C;\n",
              "      box-shadow: 0px 1px 3px 1px rgba(0, 0, 0, 0.15);\n",
              "      filter: drop-shadow(0px 1px 2px rgba(0, 0, 0, 0.3));\n",
              "      fill: #FFFFFF;\n",
              "    }\n",
              "  </style>\n",
              "\n",
              "      <script>\n",
              "        const buttonEl =\n",
              "          document.querySelector('#df-2c6339c2-03c3-4b14-b87e-4a2fc36921cb button.colab-df-convert');\n",
              "        buttonEl.style.display =\n",
              "          google.colab.kernel.accessAllowed ? 'block' : 'none';\n",
              "\n",
              "        async function convertToInteractive(key) {\n",
              "          const element = document.querySelector('#df-2c6339c2-03c3-4b14-b87e-4a2fc36921cb');\n",
              "          const dataTable =\n",
              "            await google.colab.kernel.invokeFunction('convertToInteractive',\n",
              "                                                     [key], {});\n",
              "          if (!dataTable) return;\n",
              "\n",
              "          const docLinkHtml = 'Like what you see? Visit the ' +\n",
              "            '<a target=\"_blank\" href=https://colab.research.google.com/notebooks/data_table.ipynb>data table notebook</a>'\n",
              "            + ' to learn more about interactive tables.';\n",
              "          element.innerHTML = '';\n",
              "          dataTable['output_type'] = 'display_data';\n",
              "          await google.colab.output.renderOutput(dataTable, element);\n",
              "          const docLink = document.createElement('div');\n",
              "          docLink.innerHTML = docLinkHtml;\n",
              "          element.appendChild(docLink);\n",
              "        }\n",
              "      </script>\n",
              "    </div>\n",
              "  </div>\n",
              "  "
            ]
          },
          "metadata": {},
          "execution_count": 7
        }
      ]
    },
    {
      "cell_type": "markdown",
      "metadata": {
        "id": "A2oKdhHWxDJN"
      },
      "source": [
        "##Сколько сейчас вакансий доступно по нашему запросу?##"
      ]
    },
    {
      "cell_type": "code",
      "execution_count": null,
      "metadata": {
        "colab": {
          "base_uri": "https://localhost:8080/"
        },
        "id": "7kqRRTzExDJN",
        "outputId": "ab454927-7107-4b04-c202-efef888a1a9a"
      },
      "outputs": [
        {
          "output_type": "execute_result",
          "data": {
            "text/plain": [
              "2595"
            ]
          },
          "metadata": {},
          "execution_count": 8
        }
      ],
      "source": [
        "len(df_detailed)"
      ]
    },
    {
      "cell_type": "markdown",
      "metadata": {
        "id": "pJ6HZWVAxDJO"
      },
      "source": [
        "##Какие навыки чаще всего встречаются в вакансиях по данной специальности?##\n",
        "\n",
        "Для этого найдём соответствующее поле в данных, проанализируем его и составим список навыков и количество упоминаний каждого. Визуализируем полученную информацию по топ-15 навыков."
      ]
    },
    {
      "cell_type": "code",
      "execution_count": null,
      "metadata": {
        "id": "2o44vPhnxDJO"
      },
      "outputs": [],
      "source": [
        "df_skills = df_detailed[['key_skills']]\n",
        "list_of_reqs = list()\n",
        "for index in range(0, len(df_skills)):\n",
        "    skills = df_skills.iloc[index]\n",
        "    skills_list = skills.tolist()[0]\n",
        "    for d in skills_list:\n",
        "        list_of_reqs.append(list(d.values())[0])\n",
        "pd_reqs = pd.Series(list_of_reqs)\n",
        "required_skills = pd_reqs.value_counts().reset_index()"
      ]
    },
    {
      "cell_type": "code",
      "source": [
        "required_skills.head(10)"
      ],
      "metadata": {
        "colab": {
          "base_uri": "https://localhost:8080/",
          "height": 363
        },
        "id": "iKolS_M44Lln",
        "outputId": "c1eada05-0f1e-46e7-e6b4-996f898cb0cc"
      },
      "execution_count": null,
      "outputs": [
        {
          "output_type": "execute_result",
          "data": {
            "text/plain": [
              "                                 index     0\n",
              "0                                  SQL  1141\n",
              "1                               Python   694\n",
              "2                        Анализ данных   441\n",
              "3               Аналитическое мышление   367\n",
              "4                        MS PowerPoint   339\n",
              "5                      Английский язык   314\n",
              "6                        Бизнес-анализ   212\n",
              "7                               MS SQL   212\n",
              "8  Работа с большим объемом информации   183\n",
              "9                                 BPMN   182"
            ],
            "text/html": [
              "\n",
              "  <div id=\"df-95461d69-a038-43a6-b033-57ce5c59e5cc\">\n",
              "    <div class=\"colab-df-container\">\n",
              "      <div>\n",
              "<style scoped>\n",
              "    .dataframe tbody tr th:only-of-type {\n",
              "        vertical-align: middle;\n",
              "    }\n",
              "\n",
              "    .dataframe tbody tr th {\n",
              "        vertical-align: top;\n",
              "    }\n",
              "\n",
              "    .dataframe thead th {\n",
              "        text-align: right;\n",
              "    }\n",
              "</style>\n",
              "<table border=\"1\" class=\"dataframe\">\n",
              "  <thead>\n",
              "    <tr style=\"text-align: right;\">\n",
              "      <th></th>\n",
              "      <th>index</th>\n",
              "      <th>0</th>\n",
              "    </tr>\n",
              "  </thead>\n",
              "  <tbody>\n",
              "    <tr>\n",
              "      <th>0</th>\n",
              "      <td>SQL</td>\n",
              "      <td>1141</td>\n",
              "    </tr>\n",
              "    <tr>\n",
              "      <th>1</th>\n",
              "      <td>Python</td>\n",
              "      <td>694</td>\n",
              "    </tr>\n",
              "    <tr>\n",
              "      <th>2</th>\n",
              "      <td>Анализ данных</td>\n",
              "      <td>441</td>\n",
              "    </tr>\n",
              "    <tr>\n",
              "      <th>3</th>\n",
              "      <td>Аналитическое мышление</td>\n",
              "      <td>367</td>\n",
              "    </tr>\n",
              "    <tr>\n",
              "      <th>4</th>\n",
              "      <td>MS PowerPoint</td>\n",
              "      <td>339</td>\n",
              "    </tr>\n",
              "    <tr>\n",
              "      <th>5</th>\n",
              "      <td>Английский язык</td>\n",
              "      <td>314</td>\n",
              "    </tr>\n",
              "    <tr>\n",
              "      <th>6</th>\n",
              "      <td>Бизнес-анализ</td>\n",
              "      <td>212</td>\n",
              "    </tr>\n",
              "    <tr>\n",
              "      <th>7</th>\n",
              "      <td>MS SQL</td>\n",
              "      <td>212</td>\n",
              "    </tr>\n",
              "    <tr>\n",
              "      <th>8</th>\n",
              "      <td>Работа с большим объемом информации</td>\n",
              "      <td>183</td>\n",
              "    </tr>\n",
              "    <tr>\n",
              "      <th>9</th>\n",
              "      <td>BPMN</td>\n",
              "      <td>182</td>\n",
              "    </tr>\n",
              "  </tbody>\n",
              "</table>\n",
              "</div>\n",
              "      <button class=\"colab-df-convert\" onclick=\"convertToInteractive('df-95461d69-a038-43a6-b033-57ce5c59e5cc')\"\n",
              "              title=\"Convert this dataframe to an interactive table.\"\n",
              "              style=\"display:none;\">\n",
              "        \n",
              "  <svg xmlns=\"http://www.w3.org/2000/svg\" height=\"24px\"viewBox=\"0 0 24 24\"\n",
              "       width=\"24px\">\n",
              "    <path d=\"M0 0h24v24H0V0z\" fill=\"none\"/>\n",
              "    <path d=\"M18.56 5.44l.94 2.06.94-2.06 2.06-.94-2.06-.94-.94-2.06-.94 2.06-2.06.94zm-11 1L8.5 8.5l.94-2.06 2.06-.94-2.06-.94L8.5 2.5l-.94 2.06-2.06.94zm10 10l.94 2.06.94-2.06 2.06-.94-2.06-.94-.94-2.06-.94 2.06-2.06.94z\"/><path d=\"M17.41 7.96l-1.37-1.37c-.4-.4-.92-.59-1.43-.59-.52 0-1.04.2-1.43.59L10.3 9.45l-7.72 7.72c-.78.78-.78 2.05 0 2.83L4 21.41c.39.39.9.59 1.41.59.51 0 1.02-.2 1.41-.59l7.78-7.78 2.81-2.81c.8-.78.8-2.07 0-2.86zM5.41 20L4 18.59l7.72-7.72 1.47 1.35L5.41 20z\"/>\n",
              "  </svg>\n",
              "      </button>\n",
              "      \n",
              "  <style>\n",
              "    .colab-df-container {\n",
              "      display:flex;\n",
              "      flex-wrap:wrap;\n",
              "      gap: 12px;\n",
              "    }\n",
              "\n",
              "    .colab-df-convert {\n",
              "      background-color: #E8F0FE;\n",
              "      border: none;\n",
              "      border-radius: 50%;\n",
              "      cursor: pointer;\n",
              "      display: none;\n",
              "      fill: #1967D2;\n",
              "      height: 32px;\n",
              "      padding: 0 0 0 0;\n",
              "      width: 32px;\n",
              "    }\n",
              "\n",
              "    .colab-df-convert:hover {\n",
              "      background-color: #E2EBFA;\n",
              "      box-shadow: 0px 1px 2px rgba(60, 64, 67, 0.3), 0px 1px 3px 1px rgba(60, 64, 67, 0.15);\n",
              "      fill: #174EA6;\n",
              "    }\n",
              "\n",
              "    [theme=dark] .colab-df-convert {\n",
              "      background-color: #3B4455;\n",
              "      fill: #D2E3FC;\n",
              "    }\n",
              "\n",
              "    [theme=dark] .colab-df-convert:hover {\n",
              "      background-color: #434B5C;\n",
              "      box-shadow: 0px 1px 3px 1px rgba(0, 0, 0, 0.15);\n",
              "      filter: drop-shadow(0px 1px 2px rgba(0, 0, 0, 0.3));\n",
              "      fill: #FFFFFF;\n",
              "    }\n",
              "  </style>\n",
              "\n",
              "      <script>\n",
              "        const buttonEl =\n",
              "          document.querySelector('#df-95461d69-a038-43a6-b033-57ce5c59e5cc button.colab-df-convert');\n",
              "        buttonEl.style.display =\n",
              "          google.colab.kernel.accessAllowed ? 'block' : 'none';\n",
              "\n",
              "        async function convertToInteractive(key) {\n",
              "          const element = document.querySelector('#df-95461d69-a038-43a6-b033-57ce5c59e5cc');\n",
              "          const dataTable =\n",
              "            await google.colab.kernel.invokeFunction('convertToInteractive',\n",
              "                                                     [key], {});\n",
              "          if (!dataTable) return;\n",
              "\n",
              "          const docLinkHtml = 'Like what you see? Visit the ' +\n",
              "            '<a target=\"_blank\" href=https://colab.research.google.com/notebooks/data_table.ipynb>data table notebook</a>'\n",
              "            + ' to learn more about interactive tables.';\n",
              "          element.innerHTML = '';\n",
              "          dataTable['output_type'] = 'display_data';\n",
              "          await google.colab.output.renderOutput(dataTable, element);\n",
              "          const docLink = document.createElement('div');\n",
              "          docLink.innerHTML = docLinkHtml;\n",
              "          element.appendChild(docLink);\n",
              "        }\n",
              "      </script>\n",
              "    </div>\n",
              "  </div>\n",
              "  "
            ]
          },
          "metadata": {},
          "execution_count": 10
        }
      ]
    },
    {
      "cell_type": "markdown",
      "source": [
        "**Строим график**"
      ],
      "metadata": {
        "id": "RSwM1gDWIeem"
      }
    },
    {
      "cell_type": "code",
      "source": [
        "top_req_skills = required_skills.head(15)\n",
        "plt.figure(figsize=(16, 5))\n",
        "sns.barplot(y=top_req_skills['index'], x=top_req_skills[0], orient=\"h\")\n",
        "plt.xlabel('Количество вакансий')\n",
        "plt.ylabel('Навыки')\n",
        "plt.title('Самые востребованные навыки для аналитика')"
      ],
      "metadata": {
        "colab": {
          "base_uri": "https://localhost:8080/",
          "height": 381
        },
        "id": "rDHCcVQjBp30",
        "outputId": "0e94c6af-b5bb-4bd5-ffe2-f4417ea72072"
      },
      "execution_count": null,
      "outputs": [
        {
          "output_type": "execute_result",
          "data": {
            "text/plain": [
              "Text(0.5, 1.0, 'Самые востребованные навыки для аналитика')"
            ]
          },
          "metadata": {},
          "execution_count": 11
        },
        {
          "output_type": "display_data",
          "data": {
            "text/plain": [
              "<Figure size 1152x360 with 1 Axes>"
            ],
            "image/png": "[encoded data removed]"
          },
          "metadata": {
            "needs_background": "light"
          }
        }
      ]
    },
    {
      "cell_type": "markdown",
      "metadata": {
        "id": "vaPMsQWhxDJO"
      },
      "source": [
        "##Какую зарплату готовы платить работодатели?## \n",
        "Соберём статистику и построем гистограмму.\n",
        "\n",
        "При работе с данными о заработной плате учтём валюту и gross/net. "
      ]
    },
    {
      "cell_type": "markdown",
      "source": [
        "Преобразуем данные по заработной плате"
      ],
      "metadata": {
        "id": "azNM69gtIqJx"
      }
    },
    {
      "cell_type": "code",
      "execution_count": null,
      "metadata": {
        "id": "PRoop0N9xDJO"
      },
      "outputs": [],
      "source": [
        "df_salary = df_detailed_filtered\n",
        "for index in range(0, len(df_salary)):\n",
        "    # Считаем вычет налогов\n",
        "    if not pd.isna(df_salary['salary.gross'].iloc[index]):\n",
        "        if df_salary['salary.gross'].iloc[index] == True:\n",
        "            df_salary['salary.gross'].iloc[index] == False\n",
        "            if not pd.isna(df_salary['salary.from'].iloc[index]):\n",
        "                df_salary['salary.from'].iloc[index] *= 0.87\n",
        "            if not pd.isna(df_salary['salary.to'].iloc[index]):\n",
        "                df_salary['salary.to'].iloc[index] *= 0.87\n",
        "\n",
        "    #Конвертируем валюту\n",
        "    if not pd.isna(df_salary['salary.currency'].iloc[index]):\n",
        "        if df_salary['salary.currency'].iloc[index] != \"RUB\":\n",
        "            if df_salary['salary.currency'].iloc[index] == \"USD\":\n",
        "                if not pd.isna(df_salary['salary.from'].iloc[index]):\n",
        "                    df_salary['salary.from'].iloc[index] *= 64\n",
        "                if not pd.isna(df_salary['salary.to'].iloc[index]):\n",
        "                    df_salary['salary.to'].iloc[index] *= 64\n",
        "            if df_salary['salary.currency'].iloc[index] == \"EUR\":\n",
        "                if not pd.isna(df_salary['salary.from'].iloc[index]):\n",
        "                    df_salary['salary.from'].iloc[index] *= 67\n",
        "                if not pd.isna(df_salary['salary.to'].iloc[index]):\n",
        "                    df_salary['salary.to'].iloc[index] *= 67\n",
        "            df_salary['salary.currency'].iloc[index] = \"RUB\"\n",
        "\n",
        "    # Если указана только одна из границ зарплаты, выставим другую для корректного построения гистограммы\n",
        "\n",
        "    # Нижняя граница указана\n",
        "    if not pd.isna(df_salary['salary.from'].iloc[index]) and pd.isna(df_salary['salary.to'].iloc[index]):\n",
        "        df_salary['salary.to'].iloc[index] = df_salary['salary.from'].iloc[index] * 1.25\n",
        "    # Верхняя граница указана\n",
        "    if not pd.isna(df_salary['salary.to'].iloc[index]) and pd.isna(df_salary['salary.from'].iloc[index]):\n",
        "        df_salary['salary.from'].iloc[index] = df_salary['salary.to'].iloc[index] * 0.75\n",
        "    \n",
        "    # Конвертируем в целочисленные значения, потому что с ними проще работать,\n",
        "    # а на результат анализа это не повлияет\n",
        "    if not pd.isna(df_salary['salary.to'].iloc[index]):\n",
        "        df_salary['salary.from'].iloc[index] = int (df_salary['salary.from'].iloc[index])\n",
        "    if not pd.isna(df_salary['salary.from'].iloc[index]):\n",
        "        df_salary['salary.to'].iloc[index] = int (df_salary['salary.to'].iloc[index])\n",
        "\n",
        "# Оставим только вакансии с зарплатой\n",
        "df_salary = df_salary[df_salary['salary.from'].notna()]"
      ]
    },
    {
      "cell_type": "code",
      "source": [
        "# Так как визуализировать интервалы зарплат тяжело, перейдем к набору значений в этих интегрвалах\n",
        "salaries = [rub for index in range(0, len(df_salary)) for rub in range(df_salary['salary.from'].iloc[index], df_salary['salary.to'].iloc[index], 1000)]\n",
        "\n",
        "# Строим график\n",
        "plt.figure(figsize=(16, 5))\n",
        "histplt = sns.histplot(data=salaries)\n",
        "histplt.set_xticks(range(0, 600000, 25000))\n",
        "rot = plt.xticks(rotation=60)\n",
        "plt.xlim(0, 600000)\n",
        "plt.xlabel('Зарплата')\n",
        "plt.ylabel('Количество вакансий')\n",
        "plt.title('Предлагаемая зарплата анилитика данных')"
      ],
      "metadata": {
        "colab": {
          "base_uri": "https://localhost:8080/",
          "height": 421
        },
        "id": "WcnJnPAZawKT",
        "outputId": "0cdc02c2-03d0-4cfb-8f4a-5e45da885ba7"
      },
      "execution_count": null,
      "outputs": [
        {
          "output_type": "execute_result",
          "data": {
            "text/plain": [
              "Text(0.5, 1.0, 'Предлагаемая зарплата анилитика данных')"
            ]
          },
          "metadata": {},
          "execution_count": 18
        },
        {
          "output_type": "display_data",
          "data": {
            "text/plain": [
              "<Figure size 1152x360 with 1 Axes>"
            ],
            "image/png": "[encoded data removed]"
          },
          "metadata": {
            "needs_background": "light"
          }
        }
      ]
    },
    {
      "cell_type": "markdown",
      "source": [
        "##Какой опыт требуется для вакансии?##"
      ],
      "metadata": {
        "id": "UAxenBWO1Ms8"
      }
    },
    {
      "cell_type": "markdown",
      "source": [
        "Для анализа опыта работы вначале посмотрим, какие вообще есть требования по этому параметру"
      ],
      "metadata": {
        "id": "VUm76sJ3T9eg"
      }
    },
    {
      "cell_type": "code",
      "execution_count": null,
      "metadata": {
        "id": "eXUObvLsxDJO",
        "colab": {
          "base_uri": "https://localhost:8080/"
        },
        "outputId": "a9e1d209-820c-47f4-97ed-8f771bde52b6"
      },
      "outputs": [
        {
          "output_type": "execute_result",
          "data": {
            "text/plain": [
              "['От 3 до 6 лет', 'От 1 года до 3 лет', 'Нет опыта', 'Более 6 лет']"
            ]
          },
          "metadata": {},
          "execution_count": 19
        }
      ],
      "source": [
        "df_exp = df_detailed_filtered['experience.name']\n",
        "list(df_exp.unique())"
      ]
    },
    {
      "cell_type": "markdown",
      "source": [
        "Видим, что сайт позволяет указать лишь определенные промежутки по опыту работы, поэтому для каждого из них посчитаем количество вакансий"
      ],
      "metadata": {
        "id": "3b2oAD73W_NO"
      }
    },
    {
      "cell_type": "code",
      "source": [
        "list_of_exp = list()\n",
        "for index in range(0, len(df_exp)):\n",
        "    exp = df_exp.iloc[index]\n",
        "    list_of_exp.append(exp)\n",
        "pd_exp = pd.Series(list_of_exp)\n",
        "required_exp = pd_exp.value_counts().reset_index()\n",
        "required_exp.reindex([2, 3, 0, 1])"
      ],
      "metadata": {
        "colab": {
          "base_uri": "https://localhost:8080/",
          "height": 175
        },
        "id": "gTmVN8o4XQIu",
        "outputId": "961167f8-e998-44cf-c5c6-73377be266e5"
      },
      "execution_count": null,
      "outputs": [
        {
          "output_type": "execute_result",
          "data": {
            "text/plain": [
              "                index     0\n",
              "2           Нет опыта   127\n",
              "3         Более 6 лет    64\n",
              "0  От 1 года до 3 лет  1392\n",
              "1       От 3 до 6 лет  1012"
            ],
            "text/html": [
              "\n",
              "  <div id=\"df-04ddeff1-7677-4d16-8ace-38bfc022c18c\">\n",
              "    <div class=\"colab-df-container\">\n",
              "      <div>\n",
              "<style scoped>\n",
              "    .dataframe tbody tr th:only-of-type {\n",
              "        vertical-align: middle;\n",
              "    }\n",
              "\n",
              "    .dataframe tbody tr th {\n",
              "        vertical-align: top;\n",
              "    }\n",
              "\n",
              "    .dataframe thead th {\n",
              "        text-align: right;\n",
              "    }\n",
              "</style>\n",
              "<table border=\"1\" class=\"dataframe\">\n",
              "  <thead>\n",
              "    <tr style=\"text-align: right;\">\n",
              "      <th></th>\n",
              "      <th>index</th>\n",
              "      <th>0</th>\n",
              "    </tr>\n",
              "  </thead>\n",
              "  <tbody>\n",
              "    <tr>\n",
              "      <th>2</th>\n",
              "      <td>Нет опыта</td>\n",
              "      <td>127</td>\n",
              "    </tr>\n",
              "    <tr>\n",
              "      <th>3</th>\n",
              "      <td>Более 6 лет</td>\n",
              "      <td>64</td>\n",
              "    </tr>\n",
              "    <tr>\n",
              "      <th>0</th>\n",
              "      <td>От 1 года до 3 лет</td>\n",
              "      <td>1392</td>\n",
              "    </tr>\n",
              "    <tr>\n",
              "      <th>1</th>\n",
              "      <td>От 3 до 6 лет</td>\n",
              "      <td>1012</td>\n",
              "    </tr>\n",
              "  </tbody>\n",
              "</table>\n",
              "</div>\n",
              "      <button class=\"colab-df-convert\" onclick=\"convertToInteractive('df-04ddeff1-7677-4d16-8ace-38bfc022c18c')\"\n",
              "              title=\"Convert this dataframe to an interactive table.\"\n",
              "              style=\"display:none;\">\n",
              "        \n",
              "  <svg xmlns=\"http://www.w3.org/2000/svg\" height=\"24px\"viewBox=\"0 0 24 24\"\n",
              "       width=\"24px\">\n",
              "    <path d=\"M0 0h24v24H0V0z\" fill=\"none\"/>\n",
              "    <path d=\"M18.56 5.44l.94 2.06.94-2.06 2.06-.94-2.06-.94-.94-2.06-.94 2.06-2.06.94zm-11 1L8.5 8.5l.94-2.06 2.06-.94-2.06-.94L8.5 2.5l-.94 2.06-2.06.94zm10 10l.94 2.06.94-2.06 2.06-.94-2.06-.94-.94-2.06-.94 2.06-2.06.94z\"/><path d=\"M17.41 7.96l-1.37-1.37c-.4-.4-.92-.59-1.43-.59-.52 0-1.04.2-1.43.59L10.3 9.45l-7.72 7.72c-.78.78-.78 2.05 0 2.83L4 21.41c.39.39.9.59 1.41.59.51 0 1.02-.2 1.41-.59l7.78-7.78 2.81-2.81c.8-.78.8-2.07 0-2.86zM5.41 20L4 18.59l7.72-7.72 1.47 1.35L5.41 20z\"/>\n",
              "  </svg>\n",
              "      </button>\n",
              "      \n",
              "  <style>\n",
              "    .colab-df-container {\n",
              "      display:flex;\n",
              "      flex-wrap:wrap;\n",
              "      gap: 12px;\n",
              "    }\n",
              "\n",
              "    .colab-df-convert {\n",
              "      background-color: #E8F0FE;\n",
              "      border: none;\n",
              "      border-radius: 50%;\n",
              "      cursor: pointer;\n",
              "      display: none;\n",
              "      fill: #1967D2;\n",
              "      height: 32px;\n",
              "      padding: 0 0 0 0;\n",
              "      width: 32px;\n",
              "    }\n",
              "\n",
              "    .colab-df-convert:hover {\n",
              "      background-color: #E2EBFA;\n",
              "      box-shadow: 0px 1px 2px rgba(60, 64, 67, 0.3), 0px 1px 3px 1px rgba(60, 64, 67, 0.15);\n",
              "      fill: #174EA6;\n",
              "    }\n",
              "\n",
              "    [theme=dark] .colab-df-convert {\n",
              "      background-color: #3B4455;\n",
              "      fill: #D2E3FC;\n",
              "    }\n",
              "\n",
              "    [theme=dark] .colab-df-convert:hover {\n",
              "      background-color: #434B5C;\n",
              "      box-shadow: 0px 1px 3px 1px rgba(0, 0, 0, 0.15);\n",
              "      filter: drop-shadow(0px 1px 2px rgba(0, 0, 0, 0.3));\n",
              "      fill: #FFFFFF;\n",
              "    }\n",
              "  </style>\n",
              "\n",
              "      <script>\n",
              "        const buttonEl =\n",
              "          document.querySelector('#df-04ddeff1-7677-4d16-8ace-38bfc022c18c button.colab-df-convert');\n",
              "        buttonEl.style.display =\n",
              "          google.colab.kernel.accessAllowed ? 'block' : 'none';\n",
              "\n",
              "        async function convertToInteractive(key) {\n",
              "          const element = document.querySelector('#df-04ddeff1-7677-4d16-8ace-38bfc022c18c');\n",
              "          const dataTable =\n",
              "            await google.colab.kernel.invokeFunction('convertToInteractive',\n",
              "                                                     [key], {});\n",
              "          if (!dataTable) return;\n",
              "\n",
              "          const docLinkHtml = 'Like what you see? Visit the ' +\n",
              "            '<a target=\"_blank\" href=https://colab.research.google.com/notebooks/data_table.ipynb>data table notebook</a>'\n",
              "            + ' to learn more about interactive tables.';\n",
              "          element.innerHTML = '';\n",
              "          dataTable['output_type'] = 'display_data';\n",
              "          await google.colab.output.renderOutput(dataTable, element);\n",
              "          const docLink = document.createElement('div');\n",
              "          docLink.innerHTML = docLinkHtml;\n",
              "          element.appendChild(docLink);\n",
              "        }\n",
              "      </script>\n",
              "    </div>\n",
              "  </div>\n",
              "  "
            ]
          },
          "metadata": {},
          "execution_count": 23
        }
      ]
    },
    {
      "cell_type": "markdown",
      "source": [
        "Строим график"
      ],
      "metadata": {
        "id": "Ah_3ZfcpdKQK"
      }
    },
    {
      "cell_type": "code",
      "source": [
        "plt.figure(figsize=(16, 5))\n",
        "sns.barplot(x=required_exp['index'], y=required_exp[0], orient=\"v\")\n",
        "plt.xlabel('Опыт')\n",
        "plt.ylabel('Количество вакансий')\n",
        "plt.title('Требуемый опыт для аналитика')"
      ],
      "metadata": {
        "colab": {
          "base_uri": "https://localhost:8080/",
          "height": 381
        },
        "id": "nsXGptgfdMSl",
        "outputId": "edec025e-66e4-465c-de3b-a915cf257278"
      },
      "execution_count": null,
      "outputs": [
        {
          "output_type": "execute_result",
          "data": {
            "text/plain": [
              "Text(0.5, 1.0, 'Требуемый опыт для аналитика')"
            ]
          },
          "metadata": {},
          "execution_count": 24
        },
        {
          "output_type": "display_data",
          "data": {
            "text/plain": [
              "<Figure size 1152x360 with 1 Axes>"
            ],
            "image/png": "[encoded data removed]"
          },
          "metadata": {
            "needs_background": "light"
          }
        }
      ]
    },
    {
      "cell_type": "markdown",
      "source": [
        "##Какие работодатели в топе? ##"
      ],
      "metadata": {
        "id": "wZKOs5m71ZCT"
      }
    },
    {
      "cell_type": "markdown",
      "source": [
        "Для анализа топа работодателей сделаем то же самое"
      ],
      "metadata": {
        "id": "F5fbm4IvfMli"
      }
    },
    {
      "cell_type": "code",
      "source": [
        "df_employer = df_detailed_filtered['employer.name']\n",
        "list_of_emp = list()\n",
        "for index in range(0, len(df_employer)):\n",
        "    emp = df_employer.iloc[index]\n",
        "    list_of_emp.append(emp)\n",
        "pd_emp = pd.Series(list_of_emp)\n",
        "employers = pd_emp.value_counts().reset_index()\n",
        "employers.head(11)"
      ],
      "metadata": {
        "colab": {
          "base_uri": "https://localhost:8080/",
          "height": 394
        },
        "id": "kKlJD1j5fVJx",
        "outputId": "a24ed89c-84ad-487d-ba52-3f00f71c9bd3"
      },
      "execution_count": null,
      "outputs": [
        {
          "output_type": "execute_result",
          "data": {
            "text/plain": [
              "                       index    0\n",
              "0                   Сбербанк  108\n",
              "1                        МТС   54\n",
              "2                   Тинькофф   51\n",
              "3                         VK   36\n",
              "4             Банк ВТБ (ПАО)   36\n",
              "5   Иннотех, Группа компаний   36\n",
              "6                       Ozon   32\n",
              "7                     билайн   32\n",
              "8                     HUAWEI   25\n",
              "9    Лига Цифровой Экономики   23\n",
              "10                  МТС Банк   22"
            ],
            "text/html": [
              "\n",
              "  <div id=\"df-c3c27f15-9afe-4166-a585-b26a6ec44237\">\n",
              "    <div class=\"colab-df-container\">\n",
              "      <div>\n",
              "<style scoped>\n",
              "    .dataframe tbody tr th:only-of-type {\n",
              "        vertical-align: middle;\n",
              "    }\n",
              "\n",
              "    .dataframe tbody tr th {\n",
              "        vertical-align: top;\n",
              "    }\n",
              "\n",
              "    .dataframe thead th {\n",
              "        text-align: right;\n",
              "    }\n",
              "</style>\n",
              "<table border=\"1\" class=\"dataframe\">\n",
              "  <thead>\n",
              "    <tr style=\"text-align: right;\">\n",
              "      <th></th>\n",
              "      <th>index</th>\n",
              "      <th>0</th>\n",
              "    </tr>\n",
              "  </thead>\n",
              "  <tbody>\n",
              "    <tr>\n",
              "      <th>0</th>\n",
              "      <td>Сбербанк</td>\n",
              "      <td>108</td>\n",
              "    </tr>\n",
              "    <tr>\n",
              "      <th>1</th>\n",
              "      <td>МТС</td>\n",
              "      <td>54</td>\n",
              "    </tr>\n",
              "    <tr>\n",
              "      <th>2</th>\n",
              "      <td>Тинькофф</td>\n",
              "      <td>51</td>\n",
              "    </tr>\n",
              "    <tr>\n",
              "      <th>3</th>\n",
              "      <td>VK</td>\n",
              "      <td>36</td>\n",
              "    </tr>\n",
              "    <tr>\n",
              "      <th>4</th>\n",
              "      <td>Банк ВТБ (ПАО)</td>\n",
              "      <td>36</td>\n",
              "    </tr>\n",
              "    <tr>\n",
              "      <th>5</th>\n",
              "      <td>Иннотех, Группа компаний</td>\n",
              "      <td>36</td>\n",
              "    </tr>\n",
              "    <tr>\n",
              "      <th>6</th>\n",
              "      <td>Ozon</td>\n",
              "      <td>32</td>\n",
              "    </tr>\n",
              "    <tr>\n",
              "      <th>7</th>\n",
              "      <td>билайн</td>\n",
              "      <td>32</td>\n",
              "    </tr>\n",
              "    <tr>\n",
              "      <th>8</th>\n",
              "      <td>HUAWEI</td>\n",
              "      <td>25</td>\n",
              "    </tr>\n",
              "    <tr>\n",
              "      <th>9</th>\n",
              "      <td>Лига Цифровой Экономики</td>\n",
              "      <td>23</td>\n",
              "    </tr>\n",
              "    <tr>\n",
              "      <th>10</th>\n",
              "      <td>МТС Банк</td>\n",
              "      <td>22</td>\n",
              "    </tr>\n",
              "  </tbody>\n",
              "</table>\n",
              "</div>\n",
              "      <button class=\"colab-df-convert\" onclick=\"convertToInteractive('df-c3c27f15-9afe-4166-a585-b26a6ec44237')\"\n",
              "              title=\"Convert this dataframe to an interactive table.\"\n",
              "              style=\"display:none;\">\n",
              "        \n",
              "  <svg xmlns=\"http://www.w3.org/2000/svg\" height=\"24px\"viewBox=\"0 0 24 24\"\n",
              "       width=\"24px\">\n",
              "    <path d=\"M0 0h24v24H0V0z\" fill=\"none\"/>\n",
              "    <path d=\"M18.56 5.44l.94 2.06.94-2.06 2.06-.94-2.06-.94-.94-2.06-.94 2.06-2.06.94zm-11 1L8.5 8.5l.94-2.06 2.06-.94-2.06-.94L8.5 2.5l-.94 2.06-2.06.94zm10 10l.94 2.06.94-2.06 2.06-.94-2.06-.94-.94-2.06-.94 2.06-2.06.94z\"/><path d=\"M17.41 7.96l-1.37-1.37c-.4-.4-.92-.59-1.43-.59-.52 0-1.04.2-1.43.59L10.3 9.45l-7.72 7.72c-.78.78-.78 2.05 0 2.83L4 21.41c.39.39.9.59 1.41.59.51 0 1.02-.2 1.41-.59l7.78-7.78 2.81-2.81c.8-.78.8-2.07 0-2.86zM5.41 20L4 18.59l7.72-7.72 1.47 1.35L5.41 20z\"/>\n",
              "  </svg>\n",
              "      </button>\n",
              "      \n",
              "  <style>\n",
              "    .colab-df-container {\n",
              "      display:flex;\n",
              "      flex-wrap:wrap;\n",
              "      gap: 12px;\n",
              "    }\n",
              "\n",
              "    .colab-df-convert {\n",
              "      background-color: #E8F0FE;\n",
              "      border: none;\n",
              "      border-radius: 50%;\n",
              "      cursor: pointer;\n",
              "      display: none;\n",
              "      fill: #1967D2;\n",
              "      height: 32px;\n",
              "      padding: 0 0 0 0;\n",
              "      width: 32px;\n",
              "    }\n",
              "\n",
              "    .colab-df-convert:hover {\n",
              "      background-color: #E2EBFA;\n",
              "      box-shadow: 0px 1px 2px rgba(60, 64, 67, 0.3), 0px 1px 3px 1px rgba(60, 64, 67, 0.15);\n",
              "      fill: #174EA6;\n",
              "    }\n",
              "\n",
              "    [theme=dark] .colab-df-convert {\n",
              "      background-color: #3B4455;\n",
              "      fill: #D2E3FC;\n",
              "    }\n",
              "\n",
              "    [theme=dark] .colab-df-convert:hover {\n",
              "      background-color: #434B5C;\n",
              "      box-shadow: 0px 1px 3px 1px rgba(0, 0, 0, 0.15);\n",
              "      filter: drop-shadow(0px 1px 2px rgba(0, 0, 0, 0.3));\n",
              "      fill: #FFFFFF;\n",
              "    }\n",
              "  </style>\n",
              "\n",
              "      <script>\n",
              "        const buttonEl =\n",
              "          document.querySelector('#df-c3c27f15-9afe-4166-a585-b26a6ec44237 button.colab-df-convert');\n",
              "        buttonEl.style.display =\n",
              "          google.colab.kernel.accessAllowed ? 'block' : 'none';\n",
              "\n",
              "        async function convertToInteractive(key) {\n",
              "          const element = document.querySelector('#df-c3c27f15-9afe-4166-a585-b26a6ec44237');\n",
              "          const dataTable =\n",
              "            await google.colab.kernel.invokeFunction('convertToInteractive',\n",
              "                                                     [key], {});\n",
              "          if (!dataTable) return;\n",
              "\n",
              "          const docLinkHtml = 'Like what you see? Visit the ' +\n",
              "            '<a target=\"_blank\" href=https://colab.research.google.com/notebooks/data_table.ipynb>data table notebook</a>'\n",
              "            + ' to learn more about interactive tables.';\n",
              "          element.innerHTML = '';\n",
              "          dataTable['output_type'] = 'display_data';\n",
              "          await google.colab.output.renderOutput(dataTable, element);\n",
              "          const docLink = document.createElement('div');\n",
              "          docLink.innerHTML = docLinkHtml;\n",
              "          element.appendChild(docLink);\n",
              "        }\n",
              "      </script>\n",
              "    </div>\n",
              "  </div>\n",
              "  "
            ]
          },
          "metadata": {},
          "execution_count": 26
        }
      ]
    },
    {
      "cell_type": "markdown",
      "source": [
        "График"
      ],
      "metadata": {
        "id": "y1DFq9X9gS_Y"
      }
    },
    {
      "cell_type": "code",
      "source": [
        "top_employers = employers.head(11)\n",
        "plt.figure(figsize=(16, 5))\n",
        "sns.barplot(y=top_employers['index'], x=top_employers[0], orient=\"h\")\n",
        "plt.xlabel('Количество вакансий')\n",
        "plt.ylabel('Работодатель')\n",
        "plt.title('Топ работодателей для аналитика')"
      ],
      "metadata": {
        "colab": {
          "base_uri": "https://localhost:8080/",
          "height": 381
        },
        "id": "vrZ9W6uegT1i",
        "outputId": "1de7c852-6473-4143-9b1d-25b07347d407"
      },
      "execution_count": 28,
      "outputs": [
        {
          "output_type": "execute_result",
          "data": {
            "text/plain": [
              "Text(0.5, 1.0, 'Топ работодателей для аналитика')"
            ]
          },
          "metadata": {},
          "execution_count": 28
        },
        {
          "output_type": "display_data",
          "data": {
            "text/plain": [
              "<Figure size 1152x360 with 1 Axes>"
            ],
            "image/png": "[encoded data removed]"
          },
          "metadata": {
            "needs_background": "light"
          }
        }
      ]
    },
    {
      "cell_type": "markdown",
      "source": [
        "##Выводы:##\n",
        "**Из исследования можно сделать следующие выводы:**\n",
        "*   В Москве доступно 2600 вакансий аналитика\n",
        "*   Для аналитика важнейшими навыками явлются python, английский язык и SQL\n",
        "*   Средняя зарплата аналитика - 200 тысяч рублей\n",
        "*   Наибольшее число вакансий (1400) требует наличие от 1 до 3 лет опыта, меньше (1000) - от 3 до 6, но есть 130 вакансий, которые вообще не требуют опыта\n",
        "*   Наибольшее число вакансий предлагают Сбербанк, МТС, Тинькофф"
      ],
      "metadata": {
        "id": "7sTN7Eks12i9"
      }
    }
  ],
  "metadata": {
    "colab": {
      "collapsed_sections": [],
      "name": "job_analysis.ipynb",
      "provenance": []
    },
    "kernelspec": {
      "display_name": "Python 3",
      "language": "python",
      "name": "python3"
    },
    "language_info": {
      "codemirror_mode": {
        "name": "ipython",
        "version": 3
      },
      "file_extension": ".py",
      "mimetype": "text/x-python",
      "name": "python",
      "nbconvert_exporter": "python",
      "pygments_lexer": "ipython3",
      "version": "3.8.10"
    }
  },
  "nbformat": 4,
  "nbformat_minor": 0
}